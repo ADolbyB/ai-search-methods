{
 "cells": [
  {
   "attachments": {},
   "cell_type": "markdown",
   "metadata": {},
   "source": [
    "# Local Search Methods\n",
    "\n",
    "## Hill Climbing & Simulated Annealing\n",
    "\n",
    "- CAP 4630 Intro to AI: Methods Used to Solve N-Queens Problem"
   ]
  },
  {
   "attachments": {},
   "cell_type": "markdown",
   "metadata": {},
   "source": [
    "#### Import Libraries & Define Constants"
   ]
  },
  {
   "cell_type": "code",
   "execution_count": 1,
   "metadata": {},
   "outputs": [],
   "source": [
    "import random\n",
    "from math import exp\n",
    "import time\n",
    "from copy import deepcopy\n",
    "import matplotlib.pyplot as plt\n",
    "\n",
    "N_QUEENS = 64\n",
    "TEMPERATURE = 4000"
   ]
  },
  {
   "attachments": {},
   "cell_type": "markdown",
   "metadata": {},
   "source": [
    "#### Draw $n \\times n$ Chess Board With $n$ Randomly Placed Queens:"
   ]
  },
  {
   "cell_type": "code",
   "execution_count": 2,
   "metadata": {},
   "outputs": [],
   "source": [
    "def create_board(n):        # n = N_QUEENS\n",
    "    # Create a chess board with a queen on a row\n",
    "    chess_board = {}        # index of list = the row of each queen, value of index = the column of queen on the board.\n",
    "    temp = list(range(n))   # create a list with N_QUEENS number of elements\n",
    "    random.shuffle(temp)    # shuffle all the queens (random values) on the board to make sure it is random\n",
    "    column = 0\n",
    "\n",
    "    while len(temp) > 0:\n",
    "        row = random.choice(temp)\n",
    "        chess_board[column] = row\n",
    "        temp.remove(row)\n",
    "        column += 1\n",
    "    del temp\n",
    "    return chess_board      # returns to the search method: SA or HC"
   ]
  },
  {
   "attachments": {},
   "cell_type": "markdown",
   "metadata": {},
   "source": [
    "#### Calculate Number of Attacking Queens On The Board:"
   ]
  },
  {
   "cell_type": "code",
   "execution_count": 3,
   "metadata": {},
   "outputs": [],
   "source": [
    "def threat_calculate(n):\n",
    "    # Combination formula. It is choosing two queens in n queens\n",
    "    if n < 2:\n",
    "        return 0\n",
    "    if n == 2:\n",
    "        return 1\n",
    "    return (n - 1) * n / 2  # returns to the cost() function\n",
    "\n",
    "def cost(chess_board):\n",
    "    # Calculate how many pairs of threatened queen\n",
    "    threat = 0\n",
    "    m_chessboard = {}\n",
    "    a_chessboard = {}\n",
    "\n",
    "    for column in chess_board:\n",
    "        temp_m = column - chess_board[column]\n",
    "        temp_a = column + chess_board[column]\n",
    "        if temp_m not in m_chessboard:\n",
    "            m_chessboard[temp_m] = 1\n",
    "        else:\n",
    "            m_chessboard[temp_m] += 1\n",
    "        if temp_a not in a_chessboard:\n",
    "            a_chessboard[temp_a] = 1\n",
    "        else:\n",
    "            a_chessboard[temp_a] += 1\n",
    "\n",
    "    for i in m_chessboard:\n",
    "        threat += threat_calculate(m_chessboard[i])\n",
    "    del m_chessboard\n",
    "\n",
    "    for i in a_chessboard:\n",
    "        threat += threat_calculate(a_chessboard[i])\n",
    "    del a_chessboard\n",
    "\n",
    "    return threat               # returns to the search method: SA or HC"
   ]
  },
  {
   "attachments": {},
   "cell_type": "markdown",
   "metadata": {},
   "source": [
    "#### Function to Print Solution:\n",
    " - (COLUMN) => (ROW)"
   ]
  },
  {
   "cell_type": "code",
   "execution_count": 4,
   "metadata": {},
   "outputs": [],
   "source": [
    "def print_chess_board(board):\n",
    "    # Print the chess board\n",
    "    for column, row in board.items():\n",
    "        print(\"{} => {}\".format(column, row))"
   ]
  },
  {
   "attachments": {},
   "cell_type": "markdown",
   "metadata": {},
   "source": [
    "#### Define Hill Climbing Function:"
   ]
  },
  {
   "cell_type": "code",
   "execution_count": 5,
   "metadata": {},
   "outputs": [],
   "source": [
    "def hill_climbing():\n",
    "    # Hill Climbing Search\n",
    "    solution_found = False\n",
    "    answer = create_board(N_QUEENS)\n",
    "\n",
    "    # To avoid recounting when can not find a better state\n",
    "    cost_answer = cost(answer)  # given our initial layout, how many queens are attacking?\n",
    "    \n",
    "    # Record costs:\n",
    "    Costs=[]\n",
    "    Costs.append(cost_answer)\n",
    "\n",
    "    t = TEMPERATURE             # erroneous: only for SA (delete)\n",
    "    sch = 0.99                  # erroneous (delete)\n",
    "\n",
    "    while t > 0.00001:          # change to `while x > 0` and define x. Calculate average # loops for a failed state.\n",
    "        t *= sch                # erroneous: delete and replace with an integer\n",
    "        successor = deepcopy(answer)    # create an identical successor from current state for modification\n",
    "        while True:                     # Can we change to `while index_1 == index_2` and ditch the `break`?\n",
    "            index_1 = random.randrange(0, N_QUEENS - 1) # pick a random number queen in the list\n",
    "            index_2 = random.randrange(0, N_QUEENS - 1) # pick a random number queen in the list\n",
    "            if index_1 != index_2:\n",
    "                break\n",
    "        successor[index_1], successor[index_2] = successor[index_2], \\\n",
    "            successor[index_1]          # swap the two randomly chosen queens \n",
    "        \n",
    "        delta = cost(successor) - cost_answer   # cost of successor - cost of current state\n",
    "        if delta < 0:                           # represents a \"good\" move: less # of queens attacking satisfies hill climbing\n",
    "            answer = deepcopy(successor)        # move to that successor\n",
    "            cost_answer = cost(answer)          # calculate the new cost\n",
    "            Costs.append(cost_answer)\n",
    "        if cost_answer == 0:                    # represents a solution: no queens attacking\n",
    "            solution_found = True\n",
    "            print(\"Successful Solution:\")\n",
    "            print_chess_board(answer)            \n",
    "            break\n",
    "    if solution_found is False:\n",
    "        print(\"Failed\")                         # Add a counter for how many loops until it fails\n",
    "        return(False, Costs)\n",
    "    else:\n",
    "        return(True, Costs)"
   ]
  },
  {
   "attachments": {},
   "cell_type": "markdown",
   "metadata": {},
   "source": [
    "#### Define Simulated Annealing Function:"
   ]
  },
  {
   "cell_type": "code",
   "execution_count": 6,
   "metadata": {},
   "outputs": [],
   "source": [
    "def simulated_annealing():\n",
    "    # Simulated Annealing\n",
    "    solution_found = False\n",
    "    answer = create_board(N_QUEENS)\n",
    "\n",
    "    # To avoid recounting when can not find a better state\n",
    "    cost_answer = cost(answer)\n",
    "    \n",
    "    # Record costs:\n",
    "    Costs = []\n",
    "    Costs.append(cost_answer)\n",
    "\n",
    "    t = TEMPERATURE\n",
    "    sch = 0.99\n",
    "\n",
    "    while t > 0.00001:\n",
    "        t *= sch\n",
    "        successor = deepcopy(answer)\n",
    "        while True:\n",
    "            index_1 = random.randrange(0, N_QUEENS - 1)\n",
    "            index_2 = random.randrange(0, N_QUEENS - 1)\n",
    "            if index_1 != index_2:\n",
    "                break\n",
    "        successor[index_1], successor[index_2] = successor[index_2], \\\n",
    "            successor[index_1]  # swap two chosen queens\n",
    "        \n",
    "        delta = cost(successor) - cost_answer\n",
    "        if delta < 0 or random.uniform(0, 1) < exp(-delta / t):     # change from hill climbing: only for \"good\" moves\n",
    "            answer = deepcopy(successor)\n",
    "            cost_answer = cost(answer)\n",
    "            Costs.append(cost_answer)\n",
    "        if cost_answer == 0:\n",
    "            solution_found = True\n",
    "            print(\"Successful Solution:\")\n",
    "            print_chess_board(answer)            \n",
    "            break\n",
    "    if solution_found is False:\n",
    "        print(\"Failed\")\n",
    "        return(False, Costs)\n",
    "    else:\n",
    "        return(True, Costs)"
   ]
  },
  {
   "attachments": {},
   "cell_type": "markdown",
   "metadata": {},
   "source": [
    "#### Main Function:"
   ]
  },
  {
   "cell_type": "code",
   "execution_count": 8,
   "metadata": {},
   "outputs": [
    {
     "name": "stdout",
     "output_type": "stream",
     "text": [
      "Failed\n",
      "Failed\n",
      "Failed\n",
      "Failed\n",
      "Failed\n",
      "Failed\n",
      "Failed\n",
      "Failed\n",
      "Failed\n",
      "Failed\n",
      "Failed\n",
      "Failed\n",
      "Failed\n",
      "Failed\n",
      "Failed\n",
      "Successful Solution:\n",
      "0 => 3\n",
      "1 => 7\n",
      "2 => 10\n",
      "3 => 31\n",
      "4 => 50\n",
      "5 => 27\n",
      "6 => 5\n",
      "7 => 46\n",
      "8 => 37\n",
      "9 => 43\n",
      "10 => 17\n",
      "11 => 32\n",
      "12 => 63\n",
      "13 => 24\n",
      "14 => 52\n",
      "15 => 16\n",
      "16 => 35\n",
      "17 => 11\n",
      "18 => 42\n",
      "19 => 51\n",
      "20 => 9\n",
      "21 => 44\n",
      "22 => 20\n",
      "23 => 54\n",
      "24 => 59\n",
      "25 => 55\n",
      "26 => 36\n",
      "27 => 13\n",
      "28 => 28\n",
      "29 => 19\n",
      "30 => 6\n",
      "31 => 4\n",
      "32 => 49\n",
      "33 => 60\n",
      "34 => 29\n",
      "35 => 15\n",
      "36 => 40\n",
      "37 => 12\n",
      "38 => 53\n",
      "39 => 22\n",
      "40 => 1\n",
      "41 => 18\n",
      "42 => 62\n",
      "43 => 45\n",
      "44 => 56\n",
      "45 => 61\n",
      "46 => 38\n",
      "47 => 0\n",
      "48 => 30\n",
      "49 => 58\n",
      "50 => 14\n",
      "51 => 23\n",
      "52 => 21\n",
      "53 => 41\n",
      "54 => 25\n",
      "55 => 2\n",
      "56 => 34\n",
      "57 => 48\n",
      "58 => 39\n",
      "59 => 8\n",
      "60 => 57\n",
      "61 => 26\n",
      "62 => 47\n",
      "63 => 33\n",
      "It took 16 repetitions to succeed. Runtime in seconds: 2.935912:\n"
     ]
    },
    {
     "data": {
      "image/png": "[encoded data removed]",
      "text/plain": [
       "<Figure size 640x480 with 1 Axes>"
      ]
     },
     "metadata": {},
     "output_type": "display_data"
    }
   ],
   "source": [
    "def main(method):\n",
    "    start = time.time()\n",
    "    Success = False\n",
    "    repetitions = 0\n",
    "    while not Success:\n",
    "        if method == 'SA':\n",
    "            Success, Costs = simulated_annealing()\n",
    "            repetitions = repetitions + 1           # every time it fails and restarts is a repetition\n",
    "            #plt.plot(Costs)\n",
    "        elif method == 'HC':\n",
    "            Success, Costs = hill_climbing()\n",
    "            repetitions = repetitions + 1           # every time it fails and restarts is a repetition\n",
    "            #plt.plot(Costs)\n",
    "    print(\"It took %d repetitions to succeed. Runtime in seconds: %f:\"% (repetitions,(time.time() - start)))\n",
    "    return(Success, Costs)\n",
    "\n",
    "\n",
    "if __name__ == \"__main__\":\n",
    "    method = 'SA'           # 'SA' or 'HC'\n",
    "    Success, Costs = main(method)  # HC: hill_climbing or SA: Simulated annealing\n",
    "    plt.plot(Costs)\n",
    "    plt.xlabel(method + ' Board Updated Time')\n",
    "    plt.ylabel('# of attacked Q pairs')"
   ]
  }
 ],
 "metadata": {
  "kernelspec": {
   "display_name": "base",
   "language": "python",
   "name": "python3"
  },
  "language_info": {
   "codemirror_mode": {
    "name": "ipython",
    "version": 3
   },
   "file_extension": ".py",
   "mimetype": "text/x-python",
   "name": "python",
   "nbconvert_exporter": "python",
   "pygments_lexer": "ipython3",
   "version": "3.9.13"
  },
  "orig_nbformat": 4,
  "vscode": {
   "interpreter": {
    "hash": "a906719eb24c6be2b596ddc3d3a5af6aa9dceef416174b553d74a9f9263f1789"
   }
  }
 },
 "nbformat": 4,
 "nbformat_minor": 2
}
